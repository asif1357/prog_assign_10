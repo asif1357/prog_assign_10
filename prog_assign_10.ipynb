{
 "cells": [
  {
   "cell_type": "code",
   "execution_count": 32,
   "id": "2b3e44f9",
   "metadata": {},
   "outputs": [],
   "source": [
    "l=[1,2,3,4,5,6,7,8,9]"
   ]
  },
  {
   "cell_type": "code",
   "execution_count": 33,
   "id": "f0e66e96",
   "metadata": {},
   "outputs": [
    {
     "data": {
      "text/plain": [
       "45"
      ]
     },
     "execution_count": 33,
     "metadata": {},
     "output_type": "execute_result"
    }
   ],
   "source": [
    "sum(l)"
   ]
  },
  {
   "cell_type": "code",
   "execution_count": 34,
   "id": "dbfeb259",
   "metadata": {},
   "outputs": [
    {
     "data": {
      "text/plain": [
       "1"
      ]
     },
     "execution_count": 34,
     "metadata": {},
     "output_type": "execute_result"
    }
   ],
   "source": [
    "min(l)"
   ]
  },
  {
   "cell_type": "code",
   "execution_count": 35,
   "id": "0884a72b",
   "metadata": {},
   "outputs": [
    {
     "data": {
      "text/plain": [
       "9"
      ]
     },
     "execution_count": 35,
     "metadata": {},
     "output_type": "execute_result"
    }
   ],
   "source": [
    "max(l)"
   ]
  },
  {
   "cell_type": "code",
   "execution_count": 36,
   "id": "518aa133",
   "metadata": {},
   "outputs": [
    {
     "name": "stdout",
     "output_type": "stream",
     "text": [
      "8\n"
     ]
    }
   ],
   "source": [
    "#for second largest number and for copy\n",
    "import copy\n",
    "l1=copy.copy(l)\n",
    "for i in l:\n",
    "    if i==max(l):\n",
    "        l1.remove(i)\n",
    "print(max(l1))\n",
    "        "
   ]
  },
  {
   "cell_type": "code",
   "execution_count": 37,
   "id": "7a4a4075",
   "metadata": {},
   "outputs": [],
   "source": [
    "l2=list(filter(lambda x : x%2!=0,l))  #for odd numbers"
   ]
  },
  {
   "cell_type": "code",
   "execution_count": 38,
   "id": "a823c50d",
   "metadata": {},
   "outputs": [
    {
     "data": {
      "text/plain": [
       "[1, 3, 5, 7, 9]"
      ]
     },
     "execution_count": 38,
     "metadata": {},
     "output_type": "execute_result"
    }
   ],
   "source": [
    "l2 "
   ]
  },
  {
   "cell_type": "code",
   "execution_count": 39,
   "id": "9b87696b",
   "metadata": {},
   "outputs": [],
   "source": [
    "l3=list(filter(lambda x : x%2==0,l))  #for even numbers"
   ]
  },
  {
   "cell_type": "code",
   "execution_count": 40,
   "id": "bfbd516b",
   "metadata": {},
   "outputs": [
    {
     "data": {
      "text/plain": [
       "[2, 4, 6, 8]"
      ]
     },
     "execution_count": 40,
     "metadata": {},
     "output_type": "execute_result"
    }
   ],
   "source": [
    "l3"
   ]
  },
  {
   "cell_type": "code",
   "execution_count": 41,
   "id": "fd64627d",
   "metadata": {},
   "outputs": [],
   "source": [
    "from functools import reduce\n",
    "mul=reduce(lambda a,b:a*b,l)"
   ]
  },
  {
   "cell_type": "code",
   "execution_count": 42,
   "id": "2e81b43e",
   "metadata": {},
   "outputs": [
    {
     "data": {
      "text/plain": [
       "362880"
      ]
     },
     "execution_count": 42,
     "metadata": {},
     "output_type": "execute_result"
    }
   ],
   "source": [
    "mul"
   ]
  },
  {
   "cell_type": "code",
   "execution_count": 43,
   "id": "6892c0fc",
   "metadata": {},
   "outputs": [
    {
     "data": {
      "text/plain": [
       "1"
      ]
     },
     "execution_count": 43,
     "metadata": {},
     "output_type": "execute_result"
    }
   ],
   "source": [
    "l.count(2) #counting occurances of an element"
   ]
  },
  {
   "cell_type": "code",
   "execution_count": 48,
   "id": "14560828",
   "metadata": {},
   "outputs": [
    {
     "name": "stdout",
     "output_type": "stream",
     "text": [
      "['a', 'b', 'c', [2, 3, 4], [5, 6, 7], [], [7, 8]]\n",
      "['a', 'b', 'c', [2, 3, 4], [5, 6, 7], [7, 8]]\n"
     ]
    }
   ],
   "source": [
    "#removing empty list from list\n",
    "lt=['a','b','c',[2,3,4],[5,6,7],[],[7,8,]]\n",
    "print(lt)\n",
    "\n",
    "for i in lt:\n",
    "    if type(i)==list:\n",
    "        if len(i)==0:\n",
    "            lt.remove(i)\n",
    "        else:\n",
    "            continue\n",
    "print(lt)        "
   ]
  },
  {
   "cell_type": "code",
   "execution_count": 52,
   "id": "3ba4507a",
   "metadata": {},
   "outputs": [
    {
     "name": "stdout",
     "output_type": "stream",
     "text": [
      "enter no of largest numbers you need from list : 4\n",
      "[9, 8, 7, 6]\n"
     ]
    }
   ],
   "source": [
    "k=int(input(\"enter no of largest numbers you need from list : \"))\n",
    "temp=copy.copy(l)\n",
    "result=[]\n",
    "for i in range(k):\n",
    "    result.append(max(temp))\n",
    "    temp.remove(max(temp))\n",
    "    \n",
    "print(result)\n",
    "    "
   ]
  },
  {
   "cell_type": "code",
   "execution_count": null,
   "id": "af2f3ad2",
   "metadata": {},
   "outputs": [],
   "source": []
  }
 ],
 "metadata": {
  "kernelspec": {
   "display_name": "Python 3 (ipykernel)",
   "language": "python",
   "name": "python3"
  },
  "language_info": {
   "codemirror_mode": {
    "name": "ipython",
    "version": 3
   },
   "file_extension": ".py",
   "mimetype": "text/x-python",
   "name": "python",
   "nbconvert_exporter": "python",
   "pygments_lexer": "ipython3",
   "version": "3.9.12"
  }
 },
 "nbformat": 4,
 "nbformat_minor": 5
}
